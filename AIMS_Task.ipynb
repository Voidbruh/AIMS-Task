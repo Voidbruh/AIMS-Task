{
  "nbformat": 4,
  "nbformat_minor": 0,
  "metadata": {
    "colab": {
      "provenance": []
    },
    "kernelspec": {
      "name": "python3",
      "display_name": "Python 3"
    },
    "language_info": {
      "name": "python"
    }
  },
  "cells": [
    {
      "cell_type": "markdown",
      "source": [
        "AIMS TASK 1: Simple Imputer, One Hot Encoder and Ordinal Encoder\n"
      ],
      "metadata": {
        "id": "Anx424KoO1Jz"
      }
    },
    {
      "cell_type": "code",
      "execution_count": 8,
      "metadata": {
        "id": "xHnPGqfeDBRJ"
      },
      "outputs": [],
      "source": [
        "import pandas as pd\n",
        "import numpy as np"
      ]
    },
    {
      "cell_type": "code",
      "source": [
        "def SimpleImputer(df,strategy='mean'):\n",
        "  df_si=df.copy()\n",
        "\n",
        "  if strategy=='mean':\n",
        "    val=df_si.mean()\n",
        "\n",
        "  elif strategy=='median':\n",
        "    val=df_si.median()\n",
        "\n",
        "  elif strategy=='mode':\n",
        "    val=df_si.mode().iloc[0]\n",
        "\n",
        "  elif strategy=='constant':\n",
        "    val=0\n",
        "  elif strategy not in ['mean', 'median','mode','constant']:\n",
        "        raise ValueError(\"Strategy must be one of 'mean', 'median', 'mode' or 'constant'.\")\n",
        "\n",
        "  final_df = df_si.fillna(val,inplace=True)\n",
        "\n",
        "  return final_df\n",
        "\n"
      ],
      "metadata": {
        "id": "nmzmTF85DN3j"
      },
      "execution_count": 9,
      "outputs": []
    },
    {
      "cell_type": "code",
      "source": [
        "def OneHotEncoder(df,columns=[]):\n",
        "\n",
        "    df_oh = df.copy()\n",
        "    df_oh = pd.get_dummies(df_oh,columns=columns)\n",
        "\n",
        "    return df_oh"
      ],
      "metadata": {
        "id": "JmLujdbqGjO-"
      },
      "execution_count": 10,
      "outputs": []
    },
    {
      "cell_type": "code",
      "source": [
        "def OrdinalEncoder(df,maps):\n",
        "\n",
        "  df_oe=df.copy()\n",
        "\n",
        "  for col,mapping in maps.items():\n",
        "    df_oe[col]=df_oe[col].map(mapping)\n",
        "\n",
        "  return df_oe"
      ],
      "metadata": {
        "id": "o2QSfasPKiFY"
      },
      "execution_count": 11,
      "outputs": []
    }
  ]
}